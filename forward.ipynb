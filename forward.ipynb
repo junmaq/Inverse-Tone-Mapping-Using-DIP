{
 "cells": [
  {
   "cell_type": "code",
   "execution_count": null,
   "metadata": {},
   "outputs": [],
   "source": [
    "import numpy as np\n",
    "import imageio as io\n",
    "import imageio\n",
    "import matplotlib.pyplot as plt\n",
    "import tensorflow as tf"
   ]
  },
  {
   "cell_type": "code",
   "execution_count": null,
   "metadata": {},
   "outputs": [],
   "source": [
    "tf.__version__"
   ]
  },
  {
   "cell_type": "markdown",
   "metadata": {},
   "source": [
    "### Camera response functions"
   ]
  },
  {
   "cell_type": "code",
   "execution_count": null,
   "metadata": {},
   "outputs": [],
   "source": [
    "hdr=io.imread(\"pfstools_hdr_images/hdr_gallery/forest_path.hdr\",format='HDR-FI')\n",
    "hdr=np.array(hdr)"
   ]
  },
  {
   "cell_type": "code",
   "execution_count": null,
   "metadata": {},
   "outputs": [],
   "source": [
    "def gen_blur(images, gamma, T, tau, nstd=2, seeds=None):\n",
    "    '''\n",
    "    Input a list of 3d tensors for images and kernels\n",
    "    '''\n",
    "\n",
    "    bsz, h, w, c = images.get_shape().as_list()\n",
    "    tf.repeat(images,repeats=T+1,axis=0)\n",
    "    for i in range(bsz):\n",
    "        image=images[i]\n",
    "        \n",
    "    images = tf.transpose(images, [1,2,3,0]) # h x w x c x bsz\n",
    "    power=tf.ones((images.shape[1],images.shape[2],images.shape[3],images.shape[0]))\n",
    "    gamma=tf.constant(gamma,dtype=tf.float32)\n",
    "    power=tf.multiply(power,gamma)\n",
    "    \n",
    "    dts=list(np.flip([1/(tau**i) for i in np.arange(1,T//2+1)]))\n",
    "    dts=dts+[1]\n",
    "    dts=dts+[tau**i for i in np.arange(1,T//2+1)]\n",
    "    \n",
    "    dts=tf.constant(dts,dtype=tf.float32)\n",
    "    ldrs=tf.multiply(images,dts)\n",
    "    tf.clip_by_value(ldrs, clip_value_min=0, clip_value_max=1)\n",
    "    ldrs=tf.pow(ldrs,power)\n"
   ]
  },
  {
   "cell_type": "markdown",
   "metadata": {},
   "source": [
    "### Forward function"
   ]
  },
  {
   "cell_type": "code",
   "execution_count": null,
   "metadata": {},
   "outputs": [],
   "source": [
    "def forward(x,T,tau,j):\n",
    "    LDRs=[]\n",
    "    # defining delta t's\n",
    "    dts=list(np.flip([1/(tau**i) for i in np.arange(1,T//2+1)]))\n",
    "    dts=dts+[1]\n",
    "    dts=dts+[tau**i for i in np.arange(1,T//2+1)]\n",
    "    for i in range(T+1):\n",
    "        LDRs.append(x*dts[i])\n",
    "    # Normalizing LDRs\n",
    "    c=0.5/np.mean(LDRs[T//2])\n",
    "    for i in range(T+1):\n",
    "        LDRs[i]=np.clip(LDRs[i]*c,0,1)\n",
    "    \n",
    "    return LDRs[j[0]],LDRs[j[1]]\n",
    "    "
   ]
  },
  {
   "cell_type": "code",
   "execution_count": null,
   "metadata": {},
   "outputs": [],
   "source": [
    "tau=np.sqrt(2)    \n",
    "T=8\n",
    "x=hdr\n",
    "LDRs=[]\n",
    "# defining delta t's\n",
    "dts=list(np.flip([1/(tau**i) for i in np.arange(1,T//2+1)]))\n",
    "dts=dts+[1]\n",
    "dts=dts+[tau**i for i in np.arange(1,T//2+1)]\n",
    "for i in range(T+1):\n",
    "    LDRs.append(x*dts[i])\n",
    "# Normalizing LDRs\n",
    "c=0.5/np.mean(LDRs[T//2])\n",
    "for i in range(T+1):\n",
    "    LDRs[i]=LDRs[i]*c\n",
    "LDRs=np.clip(np.array(LDRs),0,1)\n",
    "\n"
   ]
  },
  {
   "cell_type": "code",
   "execution_count": null,
   "metadata": {},
   "outputs": [],
   "source": [
    "plt.figure()\n",
    "plt.imshow(LDRs[5])\n",
    "plt.show()"
   ]
  },
  {
   "cell_type": "code",
   "execution_count": null,
   "metadata": {},
   "outputs": [],
   "source": [
    "np.max(LDRs[0])"
   ]
  },
  {
   "cell_type": "code",
   "execution_count": null,
   "metadata": {},
   "outputs": [],
   "source": [
    "d=len(LDRs[8][np.where(LDRs[8]<0.01)])"
   ]
  },
  {
   "cell_type": "code",
   "execution_count": null,
   "metadata": {},
   "outputs": [],
   "source": [
    "d/np.prod(hdr.shape)*100"
   ]
  },
  {
   "cell_type": "code",
   "execution_count": null,
   "metadata": {},
   "outputs": [],
   "source": [
    "np.mean(hdr)"
   ]
  },
  {
   "cell_type": "code",
   "execution_count": null,
   "metadata": {},
   "outputs": [],
   "source": []
  }
 ],
 "metadata": {
  "kernelspec": {
   "display_name": "Python 3",
   "language": "python",
   "name": "python3"
  },
  "language_info": {
   "codemirror_mode": {
    "name": "ipython",
    "version": 3
   },
   "file_extension": ".py",
   "mimetype": "text/x-python",
   "name": "python",
   "nbconvert_exporter": "python",
   "pygments_lexer": "ipython3",
   "version": "3.6.9"
  }
 },
 "nbformat": 4,
 "nbformat_minor": 2
}
